{
 "cells": [
  {
   "cell_type": "code",
   "execution_count": 1,
   "id": "3f050dec",
   "metadata": {},
   "outputs": [],
   "source": [
    "import pandas as pd"
   ]
  },
  {
   "cell_type": "code",
   "execution_count": 2,
   "id": "4bfc9a89",
   "metadata": {},
   "outputs": [],
   "source": [
    "import matplotlib.pyplot as plt\n",
    "import math\n",
    "import numpy as np\n",
    "from scipy.special import beta"
   ]
  },
  {
   "cell_type": "code",
   "execution_count": 3,
   "id": "a795449a",
   "metadata": {},
   "outputs": [],
   "source": [
    "%matplotlib inline"
   ]
  },
  {
   "cell_type": "code",
   "execution_count": 4,
   "id": "8c2f1b6d",
   "metadata": {},
   "outputs": [],
   "source": [
    "df = pd.read_csv(\"betas.csv\", header=None)"
   ]
  },
  {
   "cell_type": "code",
   "execution_count": 5,
   "id": "032c8177",
   "metadata": {},
   "outputs": [],
   "source": [
    "def beta_pdf(a, b):\n",
    "    \"\"\" beta probabilisty distribution \"\"\"\n",
    "    def _pdf(x):\n",
    "        return x**(a-1)*(1-x)**(b-1)/beta(a,b)\n",
    "    return _pdf"
   ]
  },
  {
   "cell_type": "markdown",
   "id": "369c08d3",
   "metadata": {},
   "source": [
    "This is histogram and beta(2, 5) distribution for sampling using random-fu `beta` function"
   ]
  },
  {
   "cell_type": "code",
   "execution_count": 6,
   "id": "a8f7d09e",
   "metadata": {},
   "outputs": [
    {
     "data": {
      "image/png": "[encoded data removed]",
      "text/plain": [
       "<Figure size 432x288 with 1 Axes>"
      ]
     },
     "metadata": {
      "needs_background": "light"
     },
     "output_type": "display_data"
    }
   ],
   "source": [
    "df[0].hist(density=True, bins=20)\n",
    "xs = np.linspace(0, 1)\n",
    "plt.plot(xs, [beta_pdf(2, 5)(x) for x in xs])\n",
    "plt.show()"
   ]
  },
  {
   "cell_type": "markdown",
   "id": "d22dc4dd",
   "metadata": {},
   "source": [
    "This is histogram when times were drawn using method described in the problem specification:"
   ]
  },
  {
   "cell_type": "code",
   "execution_count": 8,
   "id": "eb782363",
   "metadata": {},
   "outputs": [
    {
     "data": {
      "text/plain": [
       "<AxesSubplot:>"
      ]
     },
     "execution_count": 8,
     "metadata": {},
     "output_type": "execute_result"
    },
    {
     "data": {
      "image/png": "[encoded data removed]",
      "text/plain": [
       "<Figure size 432x288 with 1 Axes>"
      ]
     },
     "metadata": {
      "needs_background": "light"
     },
     "output_type": "display_data"
    }
   ],
   "source": [
    "df[1].hist(density=True)"
   ]
  },
  {
   "cell_type": "markdown",
   "id": "e13a6a00",
   "metadata": {},
   "source": [
    "This is clearly not beta(2, 5)."
   ]
  },
  {
   "cell_type": "markdown",
   "id": "0eb835d8",
   "metadata": {},
   "source": [
    "Cross check that arrival times follow exponential distribution:"
   ]
  },
  {
   "cell_type": "code",
   "execution_count": 9,
   "id": "a53b74c7",
   "metadata": {},
   "outputs": [],
   "source": [
    "arr = pd.read_csv(\"arrivals.csv\", header=None)"
   ]
  },
  {
   "cell_type": "code",
   "execution_count": 10,
   "id": "dc1e5766",
   "metadata": {},
   "outputs": [
    {
     "data": {
      "image/png": "[encoded data removed]",
      "text/plain": [
       "<Figure size 432x288 with 1 Axes>"
      ]
     },
     "metadata": {
      "needs_background": "light"
     },
     "output_type": "display_data"
    }
   ],
   "source": [
    "plt.hist(arr[0], density=True, bins=30)\n",
    "plt.plot([1/100 * math.exp(-t/100) for t in range(1000)])\n",
    "plt.show()"
   ]
  },
  {
   "cell_type": "markdown",
   "id": "2b488fcb",
   "metadata": {},
   "source": [
    "Check that shows that long continuous simulation is wrong for the Red customers.\n",
    "\n",
    "This is large file. Use\n",
    "\n",
    "```console\n",
    "stack runghc sizes\n",
    "```"
   ]
  },
  {
   "cell_type": "code",
   "execution_count": 12,
   "id": "25c85ba6",
   "metadata": {},
   "outputs": [
    {
     "data": {
      "text/html": [
       "<div>\n",
       "<style scoped>\n",
       "    .dataframe tbody tr th:only-of-type {\n",
       "        vertical-align: middle;\n",
       "    }\n",
       "\n",
       "    .dataframe tbody tr th {\n",
       "        vertical-align: top;\n",
       "    }\n",
       "\n",
       "    .dataframe thead th {\n",
       "        text-align: right;\n",
       "    }\n",
       "</style>\n",
       "<table border=\"1\" class=\"dataframe\">\n",
       "  <thead>\n",
       "    <tr style=\"text-align: right;\">\n",
       "      <th></th>\n",
       "      <th>arrival</th>\n",
       "      <th>qsize</th>\n",
       "      <th>wtime</th>\n",
       "    </tr>\n",
       "  </thead>\n",
       "  <tbody>\n",
       "    <tr>\n",
       "      <th>0</th>\n",
       "      <td>17.467289</td>\n",
       "      <td>0</td>\n",
       "      <td>0.000000</td>\n",
       "    </tr>\n",
       "    <tr>\n",
       "      <th>1</th>\n",
       "      <td>94.816010</td>\n",
       "      <td>1</td>\n",
       "      <td>16.202774</td>\n",
       "    </tr>\n",
       "    <tr>\n",
       "      <th>2</th>\n",
       "      <td>105.381418</td>\n",
       "      <td>2</td>\n",
       "      <td>113.374529</td>\n",
       "    </tr>\n",
       "    <tr>\n",
       "      <th>3</th>\n",
       "      <td>277.339772</td>\n",
       "      <td>1</td>\n",
       "      <td>33.813962</td>\n",
       "    </tr>\n",
       "    <tr>\n",
       "      <th>4</th>\n",
       "      <td>343.555644</td>\n",
       "      <td>1</td>\n",
       "      <td>92.272822</td>\n",
       "    </tr>\n",
       "  </tbody>\n",
       "</table>\n",
       "</div>"
      ],
      "text/plain": [
       "      arrival  qsize       wtime\n",
       "0   17.467289      0    0.000000\n",
       "1   94.816010      1   16.202774\n",
       "2  105.381418      2  113.374529\n",
       "3  277.339772      1   33.813962\n",
       "4  343.555644      1   92.272822"
      ]
     },
     "execution_count": 12,
     "metadata": {},
     "output_type": "execute_result"
    }
   ],
   "source": [
    "sizes = pd.read_csv(\"sizes.csv\")\n",
    "sizes.head()"
   ]
  },
  {
   "cell_type": "code",
   "execution_count": 13,
   "id": "64dbbeed",
   "metadata": {},
   "outputs": [
    {
     "data": {
      "text/plain": [
       "<AxesSubplot:>"
      ]
     },
     "execution_count": 13,
     "metadata": {},
     "output_type": "execute_result"
    },
    {
     "data": {
      "image/png": "[encoded data removed]",
      "text/plain": [
       "<Figure size 432x288 with 1 Axes>"
      ]
     },
     "metadata": {
      "needs_background": "light"
     },
     "output_type": "display_data"
    }
   ],
   "source": [
    "sizes.sort_values(\"arrival\")[\"qsize\"].plot()"
   ]
  },
  {
   "cell_type": "code",
   "execution_count": 14,
   "id": "e2e96d8c",
   "metadata": {},
   "outputs": [
    {
     "data": {
      "text/plain": [
       "<AxesSubplot:xlabel='qsize'>"
      ]
     },
     "execution_count": 14,
     "metadata": {},
     "output_type": "execute_result"
    },
    {
     "data": {
      "image/png": "[encoded data removed]",
      "text/plain": [
       "<Figure size 432x288 with 1 Axes>"
      ]
     },
     "metadata": {
      "needs_background": "light"
     },
     "output_type": "display_data"
    }
   ],
   "source": [
    "sizes.plot(x=\"qsize\", y=\"wtime\")"
   ]
  },
  {
   "cell_type": "code",
   "execution_count": 15,
   "id": "58847d7a",
   "metadata": {},
   "outputs": [
    {
     "data": {
      "text/plain": [
       "60489.86405801894"
      ]
     },
     "execution_count": 15,
     "metadata": {},
     "output_type": "execute_result"
    }
   ],
   "source": [
    "sizes[\"wtime\"].mean()"
   ]
  },
  {
   "cell_type": "code",
   "execution_count": 16,
   "id": "8d69fec8",
   "metadata": {},
   "outputs": [
    {
     "data": {
      "text/plain": [
       "126610.94749556482"
      ]
     },
     "execution_count": 16,
     "metadata": {},
     "output_type": "execute_result"
    }
   ],
   "source": [
    "sizes[\"wtime\"].max()"
   ]
  }
 ],
 "metadata": {
  "kernelspec": {
   "display_name": "python3-ifrac",
   "language": "python",
   "name": "python3-ifrac"
  },
  "language_info": {
   "codemirror_mode": {
    "name": "ipython",
    "version": 3
   },
   "file_extension": ".py",
   "mimetype": "text/x-python",
   "name": "python",
   "nbconvert_exporter": "python",
   "pygments_lexer": "ipython3",
   "version": "3.10.0"
  }
 },
 "nbformat": 4,
 "nbformat_minor": 5
}
